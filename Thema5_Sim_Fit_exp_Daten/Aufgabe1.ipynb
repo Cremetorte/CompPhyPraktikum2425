{
 "cells": [
  {
   "cell_type": "code",
   "execution_count": 2,
   "metadata": {},
   "outputs": [],
   "source": [
    "import numpy as np"
   ]
  },
  {
   "cell_type": "markdown",
   "metadata": {},
   "source": [
    "Assume array \n",
    "[\n",
    "...\n",
    "[value, error]\n",
    "..\n",
    "]"
   ]
  },
  {
   "cell_type": "code",
   "execution_count": 3,
   "metadata": {},
   "outputs": [],
   "source": [
    "data = np.array([\n",
    "    [299793, 2.0],  # Bergstrand\n",
    "    [299792, 4.5],  # Essen et al.\n",
    "    [299782, 25],   # Jones\n",
    "])"
   ]
  },
  {
   "cell_type": "code",
   "execution_count": 4,
   "metadata": {},
   "outputs": [],
   "source": [
    "def mean_value(data):\n",
    "    return np.sum(data[:, 0] / data[:, 1]**2) / np.sum(1 / data[:, 1]**2)\n",
    "\n",
    "def internal_error(data):\n",
    "    return 1/np.sum(1 / data[:, 1]**2)**0.5\n",
    "\n",
    "def external_error(data):\n",
    "    return (np.sum((data[:, 0] - mean_value(data))**2 / data[:, 1]**2)**0.5 \n",
    "                / ((len(data) - 1)*np.sum(1/data[:,1]**2))**0.5)\n",
    "    \n"
   ]
  },
  {
   "cell_type": "code",
   "execution_count": 5,
   "metadata": {},
   "outputs": [
    {
     "name": "stdout",
     "output_type": "stream",
     "text": [
      "Mean value: 299792.7774532806\n",
      "Internal error: 1.8227588752064388\n",
      "External error: 0.6155367017876124\n"
     ]
    }
   ],
   "source": [
    "print(f\"Mean value: {mean_value(data)}\")\n",
    "print(f\"Internal error: {internal_error(data)}\")\n",
    "print(f\"External error: {external_error(data)}\")"
   ]
  }
 ],
 "metadata": {
  "kernelspec": {
   "display_name": "base",
   "language": "python",
   "name": "python3"
  },
  "language_info": {
   "codemirror_mode": {
    "name": "ipython",
    "version": 3
   },
   "file_extension": ".py",
   "mimetype": "text/x-python",
   "name": "python",
   "nbconvert_exporter": "python",
   "pygments_lexer": "ipython3",
   "version": "3.12.7"
  }
 },
 "nbformat": 4,
 "nbformat_minor": 2
}
